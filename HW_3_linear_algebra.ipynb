{
  "nbformat": 4,
  "nbformat_minor": 0,
  "metadata": {
    "colab": {
      "provenance": [],
      "include_colab_link": true
    },
    "kernelspec": {
      "name": "python3",
      "display_name": "Python 3"
    },
    "language_info": {
      "name": "python"
    }
  },
  "cells": [
    {
      "cell_type": "markdown",
      "metadata": {
        "id": "view-in-github",
        "colab_type": "text"
      },
      "source": [
        "<a href=\"https://colab.research.google.com/github/nedokormysh/Ai_edu_math/blob/week_3_complex_det/HW_3_linear_algebra.ipynb\" target=\"_parent\"><img src=\"https://colab.research.google.com/assets/colab-badge.svg\" alt=\"Open In Colab\"/></a>"
      ]
    },
    {
      "cell_type": "markdown",
      "source": [
        "\n",
        "# 1.\n",
        "**Используя явную формулу для нахождения обратной матрицы, вычислите** $A^{-1}$,**где**\n",
        "\n",
        "$$A =\\begin{pmatrix}\n",
        "1 & -2 & 1  \\\\\n",
        "3 & -4 & 3 \\\\\n",
        "-9 & 10 & -7\n",
        "\\end{pmatrix}$$"
      ],
      "metadata": {
        "id": "gGdaO3G5n1mQ"
      }
    },
    {
      "cell_type": "markdown",
      "source": [
        "Явная форма - это через алгебраические дополнения? Во всяком случае, так предположил.\n",
        "\n",
        "$A^{-1} = \\frac{A^T_*}{|A|}$"
      ],
      "metadata": {
        "id": "zOm6pmaH8sVO"
      }
    },
    {
      "cell_type": "markdown",
      "source": [
        "1) Найдём определитель\n",
        "\n",
        "$$\\begin{vmatrix}\n",
        "1 & -2 & 1\\\\\n",
        "3 & -4 & 3\\\\\n",
        "-9 & 10 & -7\n",
        "\\end{vmatrix} = 1 * (-4) * (-7) + (-2) * 3 * (-9)+ 1 * 3 * 10 - (-9) * (-4) * 1 - 10 * 3 * 1 - (-7) * 3 * (-2) = 28 + 54 + 30 - 36 - 30 - 42 = 4$$"
      ],
      "metadata": {
        "id": "o591aSs5diyM"
      }
    },
    {
      "cell_type": "markdown",
      "source": [
        "2) Найдём матрицу миноров\n",
        "* $$\\begin{vmatrix}\n",
        "-4 & 3\\\\\n",
        " 10 & -7\n",
        "\\end{vmatrix} = 28 - 30 = -2$$\n",
        "\n",
        "* $$\\begin{vmatrix}\n",
        "3  & 3\\\\\n",
        "-9 & -7\n",
        "\\end{vmatrix} = -21 + 27 = 6$$\n",
        "\n",
        "* $$\\begin{vmatrix}\n",
        "3 & -4\\\\\n",
        "-9 & 10\n",
        "\\end{vmatrix} = 30 - 36 = -6$$\n",
        "\n",
        "* $$\\begin{vmatrix}\n",
        "-2 & 1\\\\\n",
        "10 & -7\n",
        "\\end{vmatrix} = 14 - 10 = 4$$\n",
        "\n",
        "* $$\\begin{vmatrix}\n",
        "1 & 1\\\\\n",
        "-9 & -7\n",
        "\\end{vmatrix} = -7 + 9 =2$$\n",
        "\n",
        "* $$\\begin{vmatrix}\n",
        "1 & -2 \\\\\n",
        "-9 & 10\n",
        "\\end{vmatrix} = 10 - 18 = -8$$\n",
        "\n",
        "* $$\\begin{vmatrix}\n",
        "-2 & 1\\\\\n",
        "-4 & 3\\\\\n",
        "\\end{vmatrix} = -6 + 4 = -2$$\n",
        "\n",
        "* $$\\begin{vmatrix}\n",
        "1 & 1\\\\\n",
        "3 & 3\\\\\n",
        "\\end{vmatrix} = 3 - 3 = 0$$\n",
        "\n",
        "* $$\\begin{vmatrix}\n",
        "1 & -2 \\\\\n",
        "3 & -4\n",
        "\\end{vmatrix} = -4 + 6 = 2$$\n",
        "\n",
        "\n",
        "$$M =\\begin{pmatrix}\n",
        "-2 & 6 & -6  \\\\\n",
        "4 & 2 & -8 \\\\\n",
        "-2 & 0 & 2\n",
        "\\end{pmatrix}$$"
      ],
      "metadata": {
        "id": "6QF2amF3hw5v"
      }
    },
    {
      "cell_type": "markdown",
      "source": [
        "3) Найдём матрицу алгебраических дополнений\n",
        "\n",
        "$$A_* =\\begin{pmatrix}\n",
        "-2 & -6 & -6  \\\\\n",
        "-4 & 2 & 8 \\\\\n",
        "-2 & 0 & 2\n",
        "\\end{pmatrix}$$"
      ],
      "metadata": {
        "id": "Jpn8YRyzmTi0"
      }
    },
    {
      "cell_type": "markdown",
      "source": [
        "4) Находим транспонированную матрицу алгебраических дополнений\n",
        "\n",
        "$$A^T_* =\\begin{pmatrix}\n",
        "-2 & -4 & -2  \\\\\n",
        "-6 & 2 & 0 \\\\\n",
        "-6 & 8 & 2\n",
        "\\end{pmatrix}$$"
      ],
      "metadata": {
        "id": "Dq17H5dymuSy"
      }
    },
    {
      "cell_type": "markdown",
      "source": [
        "Ответ\n",
        "\n",
        "$$A^{-1} = \\frac{1}{4} * \\begin{pmatrix}\n",
        "-2 & -4 & -2  \\\\\n",
        "-6 & 2 & 0 \\\\\n",
        "-6 & 8 & 2\n",
        "\\end{pmatrix} = \\begin{pmatrix}\n",
        "-0.5 & -1 & -0.5  \\\\\n",
        "-1.5 & 0.5 & 0 \\\\\n",
        "-1.5 & 2 & 0.5\n",
        "\\end{pmatrix}$$"
      ],
      "metadata": {
        "id": "2mNDg69VnVQ2"
      }
    },
    {
      "cell_type": "code",
      "source": [
        "import numpy as np\n",
        "from numpy import linalg as la"
      ],
      "metadata": {
        "id": "P1UW5Hkk75Ay"
      },
      "execution_count": 1,
      "outputs": []
    },
    {
      "cell_type": "code",
      "source": [
        "A = np.array([[1, -2, 1], [3, -4, 3], [-9, 10, -7]])"
      ],
      "metadata": {
        "id": "RrF-kvvo8CCc"
      },
      "execution_count": 2,
      "outputs": []
    },
    {
      "cell_type": "code",
      "source": [
        "np.set_printoptions(suppress=True)"
      ],
      "metadata": {
        "id": "ET6VZuXIp6Mq"
      },
      "execution_count": 3,
      "outputs": []
    },
    {
      "cell_type": "code",
      "source": [
        "la.inv(A)"
      ],
      "metadata": {
        "id": "_hZ1BpmP8dOD",
        "colab": {
          "base_uri": "https://localhost:8080/"
        },
        "outputId": "b04393fb-bec0-4128-8ed9-438ac6f4651b"
      },
      "execution_count": 4,
      "outputs": [
        {
          "output_type": "execute_result",
          "data": {
            "text/plain": [
              "array([[-0.5, -1. , -0.5],\n",
              "       [-1.5,  0.5,  0. ],\n",
              "       [-1.5,  2. ,  0.5]])"
            ]
          },
          "metadata": {},
          "execution_count": 4
        }
      ]
    },
    {
      "cell_type": "code",
      "source": [
        "detA = la.det(A)\n",
        "detA"
      ],
      "metadata": {
        "colab": {
          "base_uri": "https://localhost:8080/"
        },
        "id": "G9vEsB3V8MOl",
        "outputId": "3cfe790b-62fe-4ea0-9d35-10348c865b12"
      },
      "execution_count": 5,
      "outputs": [
        {
          "output_type": "execute_result",
          "data": {
            "text/plain": [
              "4.000000000000001"
            ]
          },
          "metadata": {},
          "execution_count": 5
        }
      ]
    },
    {
      "cell_type": "code",
      "source": [
        "# import scipy.linalg\n",
        "\n",
        "# inverse = scipy.linalg.inv(A)\n",
        "\n",
        "# # print(inverse @ A)\n",
        "# inverse"
      ],
      "metadata": {
        "id": "YgzPyxe8pgTK"
      },
      "execution_count": 6,
      "outputs": []
    },
    {
      "cell_type": "markdown",
      "source": [
        "# 2.\n",
        "Решите уравнение\n",
        "\n",
        "$$\\begin{pmatrix}\n",
        "3 & -1 \\\\\n",
        "5 & -2\n",
        "\\end{pmatrix}*X*\\begin{pmatrix}\n",
        "5 & 6 \\\\\n",
        "7 & 8\n",
        "\\end{pmatrix} =\n",
        "\\begin{pmatrix}\n",
        "14 & 16 \\\\\n",
        "9 & 10\n",
        "\\end{pmatrix}$$\n",
        "\n"
      ],
      "metadata": {
        "id": "uFQHObtxSJu2"
      }
    },
    {
      "cell_type": "markdown",
      "source": [
        "Найдём обратные матрицы"
      ],
      "metadata": {
        "id": "YC_I4EPLyfls"
      }
    },
    {
      "cell_type": "markdown",
      "source": [
        "Для матрицы $$\\begin{pmatrix}\n",
        "3 & -1 \\\\\n",
        "5 & -2\n",
        "\\end{pmatrix}$$\n",
        "\n",
        "\n",
        "$$\\begin{pmatrix}\n",
        "\\left.\\begin{matrix}\n",
        "3 & -1 \\\\\n",
        "5 & -2\n",
        "\\end{matrix}\\right|\n",
        "\\begin{matrix}\n",
        "1 & 0\\\\\n",
        "0 & 1\n",
        "\\end{matrix}\n",
        "\\end{pmatrix}=\\begin{pmatrix}\n",
        "\\left.\\begin{matrix}\n",
        "1 & -\\frac{1}{3} \\\\\n",
        "5 & -2\n",
        "\\end{matrix}\\right|\n",
        "\\begin{matrix}\n",
        "\\frac{1}{3} & 0\\\\\n",
        "0 & 1\n",
        "\\end{matrix}\n",
        "\\end{pmatrix}=\\begin{pmatrix}\n",
        "\\left.\\begin{matrix}\n",
        "1 & -\\frac{1}{3} \\\\\n",
        "0 & -\\frac{1}{3}\n",
        "\\end{matrix}\\right|\n",
        "\\begin{matrix}\n",
        "\\frac{1}{3} & 0\\\\\n",
        "-\\frac{5}{3} & 1\n",
        "\\end{matrix}\n",
        "\\end{pmatrix}=\\begin{pmatrix}\n",
        "\\left.\\begin{matrix}\n",
        "1 & -\\frac{1}{3} \\\\\n",
        "0 & 1\n",
        "\\end{matrix}\\right|\n",
        "\\begin{matrix}\n",
        "\\frac{1}{3} & 0\\\\\n",
        "5 & -3\n",
        "\\end{matrix}\n",
        "\\end{pmatrix}=\\begin{pmatrix}\n",
        "\\left.\\begin{matrix}\n",
        "1 & 0 \\\\\n",
        "0 & 1\n",
        "\\end{matrix}\\right|\n",
        "\\begin{matrix}\n",
        "2 & -1\\\\\n",
        "5 & -3\n",
        "\\end{matrix}\n",
        "\\end{pmatrix}$$"
      ],
      "metadata": {
        "id": "xXqgN7DsqwDy"
      }
    },
    {
      "cell_type": "markdown",
      "source": [
        "Для матрицы $$\\begin{pmatrix}\n",
        "5 & 6 \\\\\n",
        "7 & 8\n",
        "\\end{pmatrix}$$\n",
        "\n",
        "1)$$\\begin{vmatrix}\n",
        "5 & 6\\\\\n",
        "7 & 8\n",
        "\\end{vmatrix} = 40 - 42 = -2$$\n",
        "\n",
        "2) $$-\\frac{1}{2}\\begin{pmatrix}\n",
        "8 & -6 \\\\\n",
        "-7 & 5\n",
        "\\end{pmatrix}$$"
      ],
      "metadata": {
        "id": "IVdEP6haw75c"
      }
    },
    {
      "cell_type": "markdown",
      "source": [
        "Домножим обратные матрицы на уравнение."
      ],
      "metadata": {
        "id": "a05kbSZlRnue"
      }
    },
    {
      "cell_type": "code",
      "source": [
        "A = np.array([[3,  -1], [5, -2]])\n",
        "B = np.array([[5, 6], [7, 8]])\n",
        "C = np.array([[14, 16], [9, 10]])"
      ],
      "metadata": {
        "id": "p2eIUUbwL9HF"
      },
      "execution_count": 7,
      "outputs": []
    },
    {
      "cell_type": "markdown",
      "source": [
        "$$\\begin{pmatrix}\n",
        "2 & -1 \\\\\n",
        "5 & -3\n",
        "\\end{pmatrix} * \\begin{pmatrix}\n",
        "14 & 16  \\\\\n",
        "9 & 10\n",
        "\\end{pmatrix} = \\begin{pmatrix}\n",
        "28 -9 & 32 -10\\\\\n",
        "70 - 27 & 80 - 30\n",
        "\\end{pmatrix} = \\begin{pmatrix}\n",
        "19 & 22\\\\\n",
        "43 & 50\n",
        "\\end{pmatrix}$$\n",
        "\n",
        "$$X = \\begin{pmatrix}\n",
        "19 & 22\\\\\n",
        "43 & 50\n",
        "\\end{pmatrix} * \\Big(-\\frac{1}{2}\\Big) \\begin{pmatrix}\n",
        "8 & -6\\\\\n",
        "-7 & 5\n",
        "\\end{pmatrix} =\n",
        "(-\\frac{1}{2})\\begin{pmatrix}\n",
        " 152 - 154 & -114 + 110  \\\\\n",
        " 344 - 350 & -258 + 250\n",
        "\\end{pmatrix} = (-\\frac{1}{2})\\begin{pmatrix}\n",
        "-2 & -4 \\\\\n",
        "-6 & -8\n",
        "\\end{pmatrix} = \\begin{pmatrix}\n",
        "1 & 2\\\\\n",
        "3 & 4\n",
        "\\end{pmatrix}$$"
      ],
      "metadata": {
        "id": "c-6SXVizRxWD"
      }
    },
    {
      "cell_type": "code",
      "source": [
        "X = np.array([[1, 2], [3, 4]])\n",
        "X"
      ],
      "metadata": {
        "id": "X0UH6iLxTLh8",
        "colab": {
          "base_uri": "https://localhost:8080/"
        },
        "outputId": "1842de58-3eb9-4ddd-eaab-88e6e68f5a53"
      },
      "execution_count": 8,
      "outputs": [
        {
          "output_type": "execute_result",
          "data": {
            "text/plain": [
              "array([[1, 2],\n",
              "       [3, 4]])"
            ]
          },
          "metadata": {},
          "execution_count": 8
        }
      ]
    },
    {
      "cell_type": "code",
      "source": [
        "A @ X @ B"
      ],
      "metadata": {
        "colab": {
          "base_uri": "https://localhost:8080/"
        },
        "id": "o30IIbtNVv_V",
        "outputId": "66f0d494-84af-4ec8-976c-8f34ac0d2512"
      },
      "execution_count": 9,
      "outputs": [
        {
          "output_type": "execute_result",
          "data": {
            "text/plain": [
              "array([[14, 16],\n",
              "       [ 9, 10]])"
            ]
          },
          "metadata": {},
          "execution_count": 9
        }
      ]
    },
    {
      "cell_type": "markdown",
      "source": [
        "# 3.\n",
        "Вычислите\n",
        "\n",
        "$$i^5 = i * (i^2)^2 = i(-1)^2 = i$$\n",
        "\n",
        "$$i^{100} = (i^2)^{50} = (-1)^{50} = 1$$\n",
        "\n",
        "$$i^n$$\n",
        "**Не решил. Не придумал как записать**\n",
        "\n",
        "если n делится на 2 и не делится на 4, то $i^n = -1$\n",
        "\n",
        "если n делится на 3, то $i^n = - i$.\n",
        "\n",
        "если n = 0 или делится на 4, то $i^n = 1$\n",
        "\n",
        "если n нечётное, то $i^n = i$\n",
        "\n",
        "Т.е. тут цикл $1, i, -1, -i$, но чего-то не представляю как это записать.\n",
        "\n",
        "\n",
        "$$i^{4n} = 1$$\n",
        "$$i^{4n+1} = i$$\n",
        "$$i^{4n+2} = -1$$\n",
        "$$i^{4n+3} = -i$$\n"
      ],
      "metadata": {
        "id": "rDKYitglv_sU"
      }
    },
    {
      "cell_type": "markdown",
      "source": [
        "#4\n",
        "Вычислите\n",
        "\n",
        "$$z = -\\frac{(-1 + 5i)^2(3-4i)}{1+3i}+\\frac{10+7i}{5i}=\n",
        "-\\frac{(-1 + 5i)(-1 + 5i)(3-4i)}{1+3i}+\\frac{10+7i}{5i}=\n",
        "-\\frac{(1 - 5i - 5i + 25i^2)(3-4i)}{1+3i}+\\frac{10+7i}{5i}=\n",
        "-\\frac{(-24 -10i)(3-4i)}{1+3i}+\\frac{10+7i}{5i}=\n",
        "-\\frac{-72 + 96i - 30i + 40i^2}{1+3i}+\\frac{10+7i}{5i}=\n",
        "-\\frac{-112 + 66i}{1+3i}+\\frac{10+7i}{5i}=-\\frac{(-112 + 66i)(1-3i)}{(1+3i)(1-3i)}+\\frac{10+7i}{5i}=-\\frac{(-112 + 336i + 66i - 198i^2)}{(1+3i)(1-3i)}+\\frac{10+7i}{5i}=-\\frac{(86 + 402i)}{10}+\\frac{10+7i}{5i} = -8.6 - 40.2i + 2i + 1.4 = -7.2 - 42.2i $$"
      ],
      "metadata": {
        "id": "-LG4RyrWGOlT"
      }
    },
    {
      "cell_type": "markdown",
      "source": [
        "**Видимо не решил, но не понимаю, где ошибка. Принципиальная или арифметическая**"
      ],
      "metadata": {
        "id": "34CJZyizRH5l"
      }
    },
    {
      "cell_type": "code",
      "source": [
        "z = -(((-1 + 5j)**2) * (3-4j) / (1 + 3j)) + ((10 + 7j)/5j)\n",
        "z"
      ],
      "metadata": {
        "colab": {
          "base_uri": "https://localhost:8080/"
        },
        "id": "gpBZEwY1JSPI",
        "outputId": "5f77b406-de03-453b-9a14-a012e4e53d82"
      },
      "execution_count": 10,
      "outputs": [
        {
          "output_type": "execute_result",
          "data": {
            "text/plain": [
              "(-7.200000000000001-42.199999999999996j)"
            ]
          },
          "metadata": {},
          "execution_count": 10
        }
      ]
    },
    {
      "cell_type": "markdown",
      "source": [
        "# 5\n",
        "Какое число нужно возвести в квадрат, чтобы получить $2i$"
      ],
      "metadata": {
        "id": "JMFai0QyNht3"
      }
    },
    {
      "cell_type": "markdown",
      "source": [
        "Т.е. нам нужно найти квадратный корень из 2i"
      ],
      "metadata": {
        "id": "-2z2N23ZKKGf"
      }
    },
    {
      "cell_type": "markdown",
      "source": [
        "$2i = 1 + 2i -1 = 1^2 + 2*1*i + i^2 = (1 + i)^2.$\n",
        "\n",
        "Корни $2i$ =  $± (1+i)$\n",
        "\n"
      ],
      "metadata": {
        "id": "YXLOYQRJKOsB"
      }
    },
    {
      "cell_type": "markdown",
      "source": [
        "Правда сам бы не решил, где-то в памяти было из университета. Возможно надо как-то через тригонометрические формулы выходить на это решение."
      ],
      "metadata": {
        "id": "i-J7KJX8Ljf1"
      }
    },
    {
      "cell_type": "markdown",
      "source": [
        "# 6\n",
        "\n",
        "Решите квадратное уравнение над ℂ\n",
        "\n",
        "$$-\\frac{z^2}{i} + \\frac{20z}{i-3} + (2-11i)= 0$$"
      ],
      "metadata": {
        "id": "vIVM3iUUdVkR"
      }
    },
    {
      "cell_type": "markdown",
      "source": [
        "Домножим на сопряжённые, чтобы избавиться от дробей\n",
        "\n",
        "$$z^2i + \\frac{20zi + 60z}{-10} + 2 - 11i$$\n",
        "\n",
        "$$z^2i -2zi -6z + 2 - 11i$$\n",
        "\n",
        "$$z^2i + z(-2i -6) + 2 - 11i$$\n",
        "\n",
        "\n",
        "$$z_1 = \\frac{-b -\\sqrt{D}}{2a}$$\n",
        "\n",
        "$$z_2 = \\frac{-b +\\sqrt{D}}{2a}$$\n",
        "\n",
        "$$D = b^2-4ac$$\n",
        "\n",
        "$$a = i$$\n",
        "\n",
        "$$b = (-2i -6)$$\n",
        "\n",
        "$$c = 2 - 11i$$\n",
        "\n",
        "$$D = (-2i - 6)^2 - 4i(2 - 11i) = 24i + 32 - 8i + 44i^2 = - 12 + 16i$$\n",
        "\n",
        "$$z_1 = \\frac{2i + 6 - \\sqrt{16i - 12}}{2i}$$\n",
        "$$z_2 = \\frac{2i + 6 + \\sqrt{16i - 12}}{2i}$$\n"
      ],
      "metadata": {
        "id": "KHwKA5Skp4nJ"
      }
    },
    {
      "cell_type": "markdown",
      "source": [
        "**Не решил, не понимаю как найти корень из -12 + 16i. И я должен получить 2 корня. Т.е. в конечном итоге должен получить 4 корня квадратного уравнения.**"
      ],
      "metadata": {
        "id": "E3F9Ju1LnLEI"
      }
    },
    {
      "cell_type": "markdown",
      "source": [
        "$\\sqrt[n]{z} =  \\sqrt[n]{|z|}\\Big(cos{\\frac{ϕ + 2 \\pi k}{n}} +i\\sin{\\frac{ϕ+2\\pi k}{n}}\\Big)$"
      ],
      "metadata": {
        "id": "oKyrM6ztoBXz"
      }
    },
    {
      "cell_type": "markdown",
      "source": [
        "$$|z| = \\sqrt{(-12)^2 + 16^2} = 20$$\n",
        "\n",
        "$$\\phi = \\pi + arctg(-\\frac{16}{12})$$\n",
        "\n",
        "$$z = 20\\Big(\\cos \\Big(\\pi -arctg\\Big(\\frac{4}{3}\\Big)\\Big) +i\\sin\\Big(\\pi -arctg\\Big(\\frac{4}{3}\\Big) \\Big) \\Big)$$"
      ],
      "metadata": {
        "id": "ueb8f-giu8xv"
      }
    },
    {
      "cell_type": "markdown",
      "source": [
        "$\\sqrt{-12+16i} =\\sqrt{20\\Big(\\cos \\Big(\\pi -arctg\\Big(\\frac{4}{3}\\Big)\\Big) +i\\sin\\Big(\\pi -arctg\\Big(\\frac{4}{3}\\Big) \\Big) \\Big)} = \\sqrt{20}\\Big(cos{\\frac{\\pi -arctg\\Big(\\frac{4}{3}\\Big) + 2 \\pi k}{2}} +i\\sin{\\frac{\\pi -arctg\\Big(\\frac{4}{3}\\Big)+2\\pi k}{2}}\\Big)$\n",
        "\n",
        "$k = 0$\n",
        "\n",
        "$2\\sqrt{5}\\Big(cos{\\frac{\\pi -arctg\\Big(\\frac{4}{3}\\Big)}{2}} +i\\sin{\\frac{\\pi -arctg\\Big(\\frac{4}{3}\\Big)}{2}}\\Big)$\n",
        "\n",
        "$k = 1$\n",
        "\n",
        "$2\\sqrt{5}\\Big(cos{\\frac{3\\pi -arctg\\Big(\\frac{4}{3}\\Big)}{2}} +i\\sin{\\frac{3\\pi -arctg\\Big(\\frac{4}{3}\\Big)}{2}}\\Big)$"
      ],
      "metadata": {
        "id": "H1a8xuDq3PsQ"
      }
    },
    {
      "cell_type": "markdown",
      "source": [
        "$(2+4i)(2+4i) = 4 + 8i +8i +16i^2 = 4+16i-16 = -12+16i$\n",
        "$(-2-4i)(-2-4i) = 4 + 8i +8i +16i^2 = 4+16i-16 = -12+16i$"
      ],
      "metadata": {
        "id": "GzMleJwHAylz"
      }
    },
    {
      "cell_type": "code",
      "source": [
        "a = (0 + 1j)\n",
        "b = (-6 - 2j)\n",
        "c = (2 - 11j)\n",
        "\n",
        "D = b**2 - 4 * a * c\n",
        "D"
      ],
      "metadata": {
        "colab": {
          "base_uri": "https://localhost:8080/"
        },
        "id": "zdAiDZIp34bB",
        "outputId": "ed3794b7-573a-4834-a1fe-119434adba62"
      },
      "execution_count": 11,
      "outputs": [
        {
          "output_type": "execute_result",
          "data": {
            "text/plain": [
              "(-12+16j)"
            ]
          },
          "metadata": {},
          "execution_count": 11
        }
      ]
    },
    {
      "cell_type": "code",
      "source": [
        "z1 = (-b + D**(1/2)) / 2*a\n",
        "z1"
      ],
      "metadata": {
        "colab": {
          "base_uri": "https://localhost:8080/"
        },
        "id": "PkJ4HB_r4TPg",
        "outputId": "3b083818-4d3b-4e40-bbf6-8bb555a49d99"
      },
      "execution_count": 12,
      "outputs": [
        {
          "output_type": "execute_result",
          "data": {
            "text/plain": [
              "(-3+4j)"
            ]
          },
          "metadata": {},
          "execution_count": 12
        }
      ]
    },
    {
      "cell_type": "code",
      "source": [
        "z2 = (-b - D**(1/2)) / 2*a\n",
        "z2"
      ],
      "metadata": {
        "colab": {
          "base_uri": "https://localhost:8080/"
        },
        "id": "MRMxfnwZj7r2",
        "outputId": "78c5a042-9640-483a-a73f-badb321e803d"
      },
      "execution_count": 13,
      "outputs": [
        {
          "output_type": "execute_result",
          "data": {
            "text/plain": [
              "(1+1.9999999999999998j)"
            ]
          },
          "metadata": {},
          "execution_count": 13
        }
      ]
    },
    {
      "cell_type": "markdown",
      "source": [
        "# 7\n",
        "\n",
        "Вычислите\n",
        "\n",
        "$$\\Big(\\frac{1}{2}+\\frac{\\sqrt{3}}{2}i\\Big)^{20}$$\n"
      ],
      "metadata": {
        "id": "P4fe2LPJqKLJ"
      }
    },
    {
      "cell_type": "markdown",
      "source": [
        "$$|z|=\\sqrt{\\frac{1}{4} +\\frac{3}{4}}= 1$$\n",
        "\n",
        "\n",
        "$$Re(z) = \\frac{1}{2} > 0, Im(z)=\\frac{\\sqrt{3}}{2} > 0$$\n",
        "\n",
        "$$\\phi = arctg(z) = arctg\\Big(\\frac{2\\sqrt{3}}{2}\\Big) = \\frac{\\pi}{3}$$\n",
        "\n",
        "$$z = \\cos\\Big(\\frac{\\pi}{3}\\Big) +  i\\sin\\Big(\\frac{\\pi}{3}\\Big)$$"
      ],
      "metadata": {
        "id": "iXkofXgvr5H_"
      }
    },
    {
      "cell_type": "markdown",
      "source": [
        "$z^n =  |z|^n\\Big(cos(nϕ) +i\\sin(nϕ)\\Big)$\n",
        "\n",
        "$\\Big(\\frac{1}{2}+\\frac{\\sqrt{3}}{2}i\\Big)^{20} = cos(20\\frac{\\pi}{3}) +i\\sin(20\\frac{\\pi}{3}) = cos(\\frac{2\\pi}{3}) +i\\sin(\\frac{2\\pi}{3})$"
      ],
      "metadata": {
        "id": "FK_5Z9VyKVqc"
      }
    },
    {
      "cell_type": "markdown",
      "source": [
        "# 8\n",
        "\n",
        "\n",
        "\n"
      ],
      "metadata": {
        "id": "gKtr5_MThlR-"
      }
    },
    {
      "cell_type": "markdown",
      "source": [
        "##а)\n",
        "  Пусть $V = M_2(ℜ)$, $U =\\Big\\{ \\begin{pmatrix}\n",
        "a & b \\\\\n",
        "c & d\n",
        "\\end{pmatrix}  \\Big | a + d = 0 \\Big \\}$. Покажите, что U – подпространство V . Иными словами, нужно показать, что множество 2 × 2 матриц с нулевым следом является подпространством пространства всех вещественных 2 × 2 матриц (следом матрицы называется сумма элементов главной диагонали матрицы). Найдите размерность U и предъявите некоторый базис U.\n"
      ],
      "metadata": {
        "id": "rWGi-G7rkP4t"
      }
    },
    {
      "cell_type": "markdown",
      "source": [
        "Если верно понимаю, то нам нужно рассмотреть сложение двух матриц со следом ноль и умножение матрицы на константу.\n",
        "\n",
        "$$\\begin{pmatrix}\n",
        "a_1 & b_1 \\\\\n",
        "c_1 & d_1\n",
        "\\end{pmatrix}+\\begin{pmatrix}\n",
        "a_2 & b_2 \\\\\n",
        "c_2 & d_2\n",
        "\\end{pmatrix} = \\begin{pmatrix}\n",
        "a_1 + a_2 & b_1 + b_2 \\\\\n",
        "c_1 + c_2 & d_1 + d_2\n",
        "\\end{pmatrix}$$\n",
        "\n",
        "по условию $a_1 + d_1 = 0$ и $a_2 + d_2 = 0$\n",
        "$$a_1 + a_2 + d_1 + d_2 = a_1 + d_1 + a_2 + d_2 = 0$$\n",
        "\n",
        "$$λ\\begin{pmatrix}\n",
        "a & b \\\\\n",
        "c & d\n",
        "\\end{pmatrix}$$\n",
        "\n",
        "$$λa + λd = λ(a + d)$$\n",
        "\n",
        "Т.е. да, у мы не вышли из нашего подпространства."
      ],
      "metadata": {
        "id": "ELjVmZD8kRNb"
      }
    },
    {
      "cell_type": "markdown",
      "source": [
        "Честно говоря, плохо понял эту тему. Особенно размерность. В данном случае, зацепился за степень свободы. Т.е., если бы все элементы в нашей матрице были бы независимы, то размерность была бы 4. Но у нас один элемент определённо задан другим элементом. Таким образом размерность = 3.\n",
        "\n",
        "Т.е. нам нужно 3 вектора, которые зададут нам базис.\n",
        "\n",
        "Но как размерность и ранг в данном случае связаны - до конца не понимаю.\n",
        "\n",
        "Для задания элемента справа сверху\n",
        "$$\n",
        "e_1 = \\begin{pmatrix}\n",
        "0 & 1\\\\\n",
        "0 & 0\n",
        "\\end{pmatrix}$$\n",
        "\n",
        "Для задания элемента слева снизу\n",
        "$$\n",
        "e_2 = \\begin{pmatrix}\n",
        "0 & 0\\\\\n",
        "1 & 0\n",
        "\\end{pmatrix}$$\n",
        "\n",
        "Для задания элементов по диагонали\n",
        "\n",
        "$$\n",
        "e_3 = \\begin{pmatrix}\n",
        "1 & 0\\\\\n",
        "0 & -1\n",
        "\\end{pmatrix}$$\n"
      ],
      "metadata": {
        "id": "jpTYSlVBmOnR"
      }
    },
    {
      "cell_type": "markdown",
      "source": [
        "##б)\n",
        "В выбранном базисе найдите координаты матрицы\n",
        "\n",
        "$$\n",
        "\\begin{pmatrix}\n",
        "-1 & 2\\\\\n",
        "3 & 1\n",
        "\\end{pmatrix}$$\n",
        "(то есть укажите, как эта матрица выражается через базисные.)\n"
      ],
      "metadata": {
        "id": "lyWDITUckLGX"
      }
    },
    {
      "cell_type": "markdown",
      "source": [
        "$$\n",
        "3\\begin{pmatrix}\n",
        "0 & 0\\\\\n",
        "1 & 0\n",
        "\\end{pmatrix} + 2\\begin{pmatrix}\n",
        "0 & 1\\\\\n",
        "0 & 0\n",
        "\\end{pmatrix} -1\\begin{pmatrix}\n",
        "1 & 0\\\\\n",
        "0 & -1\n",
        "\\end{pmatrix}$$"
      ],
      "metadata": {
        "id": "quSp7upskdYH"
      }
    },
    {
      "cell_type": "markdown",
      "source": [
        "# 9\n",
        "\n",
        "Найдите все значения λ ∈ ℜ, при которых вектор v линейно выражается через векторы a1, a2, a3, где\n",
        "\n",
        "$$a_1 = \\begin{pmatrix}\n",
        "2\\\\\n",
        "3\\\\\n",
        "5\n",
        "\\end{pmatrix}\n",
        "a_2 = \\begin{pmatrix}\n",
        "3\\\\\n",
        "7\\\\\n",
        "8\n",
        "\\end{pmatrix}\n",
        "a_3 = \\begin{pmatrix}\n",
        "1\\\\\n",
        "-6\\\\\n",
        "1\n",
        "\\end{pmatrix}\n",
        "v = \\begin{pmatrix}\n",
        "7\\\\\n",
        "-2\\\\\n",
        "λ\n",
        "\\end{pmatrix}$$"
      ],
      "metadata": {
        "id": "hEyVJ0F5keL9"
      }
    },
    {
      "cell_type": "markdown",
      "source": [
        "$$\\forall λ$$\n",
        "\n",
        "Может быть неверно понял, но у нас размерность пространства 3. И 3 линейно независимых вектора уже будут давать базис."
      ],
      "metadata": {
        "id": "jepWKbLQutHP"
      }
    },
    {
      "cell_type": "markdown",
      "source": [
        "# 10\n",
        "\n",
        "Найдите какой-нибудь базис системы векторов и выразите через него все остальные векторы системы:\n",
        "\n",
        "$a1 = (2,−1, 3, 5), a2 = (4,−3, 1, 3), a3 = (3,−2, 3, 4), a4 = (4,−1, 15, 17), a5 = (7,−6,−7, 0).$"
      ],
      "metadata": {
        "id": "d3u6QX3ZvfFB"
      }
    },
    {
      "cell_type": "markdown",
      "source": [
        "Для нахождения базиса достаточно выделить максимальную линейно независимую подсистему из системы векторов $\\{a1, . . . , a5\\}$.\n",
        "\n",
        "Составим линейную комбинацию:\n",
        "\n",
        "$$w_1a_1 + w_2a_2 + w_3a_3 + w_4a_4 + w_5a_5$$\n",
        "\n",
        "$$(2w_1 + 4w_2 + 3w_3 + 4w_4 + 7w_5,  - w_1 -3w_2 - 2w_3 - w_4 - 6w_5, 3w_1 + w_2 + 3w_3 + 15w_4 - 7w_5, 5w_1 + 3w_2 + 4w_3 + 17w_4 + 0w_5) = (0, 0, 0, 0)$$\n",
        "\n",
        "$$\\begin{cases}\n",
        "2w_1 + 4w_2 + 3w_3 + 4w_4 + 7w_5 = 0\\\\\n",
        "-w_1 -3w_2 - 2w_3 - w_4 - 6w_5 = 0\\\\\n",
        "3w_1 + w_2 + 3w_3 + 15w_4 - 7w_5 = 0\\\\\n",
        "5w_1 + 3w_2 + 4w_3 + 17w_4 + 0w_5 = 0\n",
        "\\end{cases}$$\n",
        "\n",
        "\n",
        "\n",
        "$$\\begin{pmatrix}\n",
        "2 & 4 & 3 & 4 & 7 \\\\\n",
        "-1 & -3 & -2 & -1 & -6\\\\\n",
        "3 & 1 & 3 & 15 & -7\\\\\n",
        "5 & 3 & 4 & 17 & 0\n",
        "\\end{pmatrix}→\\begin{pmatrix}\n",
        "1 & 3 & 2 & 1 & 6\\\\\n",
        "2 & 4 & 3 & 4 & 7 \\\\\n",
        "3 & 1 & 3 & 15 & -7\\\\\n",
        "5 & 3 & 4 & 17 & 0\n",
        "\\end{pmatrix}→\n",
        "\\begin{pmatrix}\n",
        "1 & 3 & 2 & 1 & 6\\\\\n",
        "0 & -2 & -1 & 2 & -5 \\\\\n",
        "0 & -8 & -3 & 12 & -25\\\\\n",
        "0 & -12 & -6 & 12 & -30\n",
        "\\end{pmatrix}→\n",
        "\\begin{pmatrix}\n",
        "1 & 3 & 2 & 1 & 6\\\\\n",
        "0 & -2 & -1 & 2 & -5 \\\\\n",
        "0 & -8 & -3 & 12 & -25\\\\\n",
        "0 & 0 & 0 & 0 & 0\n",
        "\\end{pmatrix}→\n",
        "\\begin{pmatrix}\n",
        "1 & 3 & 2 & 1 & 6\\\\\n",
        "0 & -2 & -1 & 2 & -5 \\\\\n",
        "0 & -8 & -3 & 12 & -25\n",
        "\\end{pmatrix}→\n",
        "\\begin{pmatrix}\n",
        "1 & 3 & 2 & 1 & 6\\\\\n",
        "0 & 2 & 1 & -2 & 5 \\\\\n",
        "0 & -8 & -3 & 12 & -25\n",
        "\\end{pmatrix}→\n",
        "\\begin{pmatrix}\n",
        "1 & 3 & 2 & 1 & 6\\\\\n",
        "0 & 2 & 1 & -2 & 5 \\\\\n",
        "0 & 0 & 1 & 4 & -5\n",
        "\\end{pmatrix}→\n",
        "\\begin{pmatrix}\n",
        "1 & 1 & 1 & 3 & 1\\\\\n",
        "0 & 2 & 1 & -2 & 5 \\\\\n",
        "0 & 0 & 1 & 4 & -5\n",
        "\\end{pmatrix}→\n",
        "\\begin{pmatrix}\n",
        "1 & 1 & 1 & 3 & 1\\\\\n",
        "0 & 1 & 0.5 & -1 & 2.5 \\\\\n",
        "0 & 0 & 1 & 4 & -5\n",
        "\\end{pmatrix}→\n",
        "\\begin{pmatrix}\n",
        "1 & 1 & 0 & -1 & 6\\\\\n",
        "0 & 1 & 0.5 & -1 & 2.5 \\\\\n",
        "0 & 0 & 1 & 4 & -5\n",
        "\\end{pmatrix}→\n",
        "\\begin{pmatrix}\n",
        "1 & 0 & -0.5 & 0 & 3.5\\\\\n",
        "0 & 1 & 0.5 & -1 & 2.5 \\\\\n",
        "0 & 0 & 1 & 4 & -5\n",
        "\\end{pmatrix}→\n",
        "\\begin{pmatrix}\n",
        "1 & 0 & -0.5 & 0 & 3.5\\\\\n",
        "0 & 1 & 0 & -3 & 5 \\\\\n",
        "0 & 0 & 1 & 4 & -5\n",
        "\\end{pmatrix}→\n",
        "\\begin{pmatrix}\n",
        "1 & 0 & 0 & 2 & 1\\\\\n",
        "0 & 1 & 0 & -3 & 5 \\\\\n",
        "0 & 0 & 1 & 4 & -5\n",
        "\\end{pmatrix}$$\n"
      ],
      "metadata": {
        "id": "bVuQ7NjFCuy3"
      }
    },
    {
      "cell_type": "markdown",
      "source": [
        "$w_1, w_2, w_3$ - являются главными компонентами, $w_4, w_5$ - свободные.\n",
        "\n",
        "Т.е. вектора $a4, a5$ - можно представить в виде линейной комбинации других векторов."
      ],
      "metadata": {
        "id": "OWKV-aN9pakI"
      }
    },
    {
      "cell_type": "markdown",
      "source": [
        "Честно говоря, не очень пока понял, возможно просто повезло. Т.е. на бумаге я просто составил СЛУ через черту и посчитал.\n",
        "\n",
        "$$a4 = 2a1 - 3a2 + 4a3$$\n",
        "$$a5 = a1 + 5a2 -5a3$$\n",
        "\n"
      ],
      "metadata": {
        "id": "dUYwfiDh_zc3"
      }
    },
    {
      "cell_type": "code",
      "source": [
        "a1 = np.array([2, -1, 3, 5])\n",
        "a2 = np.array([4, -3, 1, 3])\n",
        "a3 = np.array([3, -2, 3, 4])"
      ],
      "metadata": {
        "id": "NdtGvjo9-zGd"
      },
      "execution_count": 14,
      "outputs": []
    },
    {
      "cell_type": "code",
      "source": [
        "2 * a1 - 3 *a2 + 4 * a3"
      ],
      "metadata": {
        "colab": {
          "base_uri": "https://localhost:8080/"
        },
        "id": "SGok5Rf5_LqA",
        "outputId": "eabbd03f-27d5-4e2a-f9dd-78a7ddf72f44"
      },
      "execution_count": 15,
      "outputs": [
        {
          "output_type": "execute_result",
          "data": {
            "text/plain": [
              "array([ 4, -1, 15, 17])"
            ]
          },
          "metadata": {},
          "execution_count": 15
        }
      ]
    },
    {
      "cell_type": "code",
      "source": [
        "a1 + 5 * a2 - 5 * a3"
      ],
      "metadata": {
        "colab": {
          "base_uri": "https://localhost:8080/"
        },
        "id": "dpvgUtHs_Z8t",
        "outputId": "4d4daa5e-c30f-4686-f8a5-c93c7a57695d"
      },
      "execution_count": 16,
      "outputs": [
        {
          "output_type": "execute_result",
          "data": {
            "text/plain": [
              "array([ 7, -6, -7,  0])"
            ]
          },
          "metadata": {},
          "execution_count": 16
        }
      ]
    },
    {
      "cell_type": "code",
      "source": [
        "A = np.array([[2, 4, 3, 4, 7], [-1, -3, -2, -1, -6], [3, 1, 3, 15, -7], [5, 3, 4, 17, 0]])\n",
        "la.matrix_rank(A)"
      ],
      "metadata": {
        "colab": {
          "base_uri": "https://localhost:8080/"
        },
        "id": "nHN-uGJia3CA",
        "outputId": "e7b64ac7-fe25-4693-97b6-b6e8b404d3f2"
      },
      "execution_count": 17,
      "outputs": [
        {
          "output_type": "execute_result",
          "data": {
            "text/plain": [
              "3"
            ]
          },
          "metadata": {},
          "execution_count": 17
        }
      ]
    },
    {
      "cell_type": "markdown",
      "source": [
        "# 11\n",
        "\n",
        "Для каждого значения λ ∈ ℜ найдите ранг матрицы\n",
        "\n",
        "$$\\begin{pmatrix}\n",
        "-λ & 1 & 2 & 3 & 1 \\\\\n",
        "1 & -λ & 3 & 2 & 1\\\\\n",
        "2 & 3 & -λ & 1 & 1\\\\\n",
        "3 & 2 & 1 & -λ & 1\n",
        "\\end{pmatrix}$$"
      ],
      "metadata": {
        "id": "OC8s2wPyw3i1"
      }
    },
    {
      "cell_type": "markdown",
      "source": [
        "**Не решил. Если честно, не понимаю куда двигаться. Т.е. я вроде и окаймляющих миноров пробовал и вот ниже привёл пример начала для метода элементарных преобразований**"
      ],
      "metadata": {
        "id": "40AF1DQEyAn4"
      }
    },
    {
      "cell_type": "markdown",
      "source": [
        "$$\\begin{pmatrix}\n",
        "-λ & 1 & 2 & 3 & 1 \\\\\n",
        "1 & -λ & 3 & 2 & 1\\\\\n",
        "2 & 3 & -λ & 1 & 1\\\\\n",
        "3 & 2 & 1 & -λ & 1\n",
        "\\end{pmatrix}→\n",
        "\\begin{pmatrix}\n",
        "1 & -λ & 3 & 2 & 1\\\\\n",
        "2 & 3 & -λ & 1 & 1\\\\\n",
        "3 & 2 & 1 & -λ & 1\\\\\n",
        "-λ & 1 & 2 & 3 & 1\n",
        "\\end{pmatrix}→\n",
        "\\begin{pmatrix}\n",
        "1 & -λ & 3 & 2 & 1\\\\\n",
        "0 & 3+2λ & -λ-6 & -3 & -1\\\\\n",
        "0 & 2-3λ & -8 & -λ-6 & -2\\\\\n",
        "0 & 1-λ^2 & 2+3λ & 3+2λ & 1+λ\n",
        "\\end{pmatrix}→$$\n",
        "\n",
        "$$λ \\neq 0$$\n",
        "\n",
        "$$→\\begin{pmatrix}\n",
        "1 & -λ & 3 & 2 & 1\\\\\n",
        "0 & 1 & \\frac{-λ-6}{2λ+3} & \\frac{-3}{2λ+3} & \\frac{-1}{2λ+3}\\\\\n",
        "0 & 2-3λ & -8 & -λ-6 & -2\\\\\n",
        "0 & 1-λ^2 & 2+3λ & 3+2λ & 1+λ\n",
        "\\end{pmatrix}→$$\n",
        "\n",
        "$$λ \\neq -\\frac{3}{2}$$\n",
        "\n",
        "$$→\\begin{pmatrix}\n",
        "1 & -λ & 3 & 2 & 1\\\\\n",
        "0 & 1 & \\frac{-λ-6}{2λ+3} & \\frac{-3}{2λ+3} & \\frac{-1}{2λ+3}\\\\\n",
        "0 & 2-3λ & -8 & -λ-6 & -2\\\\\n",
        "0 & 1-λ^2 & 2+3λ & 3+2λ & 1+λ\n",
        "\\end{pmatrix}→\\begin{pmatrix}\n",
        "1 & -λ & 3 & 2 & 1\\\\\n",
        "0 & 1 & \\frac{-λ-6}{2λ+3} & \\frac{-3}{2λ+3} & \\frac{-1}{2λ+3}\\\\\n",
        "0 & 0 & \\frac{-3λ^2 - 32 - 12}{2λ + 3}& \\frac{-2λ^2 - 33λ - 12}{2λ + 3}& \\frac{-7λ - 4}{2λ + 3}\\\\\n",
        "0 & 1-λ^2 & 2+3λ & 3+2λ & 1+λ\n",
        "\\end{pmatrix}→\\begin{pmatrix}\n",
        "1 & -λ & 3 & 2 & 1\\\\\n",
        "0 & 1 & \\frac{-λ-6}{2λ+3} & \\frac{-3}{2λ+3} & \\frac{-1}{2λ+3}\\\\\n",
        "0 & 0 & \\frac{-3λ^2 - 32 - 12}{2λ + 3}& \\frac{-2λ^2 - 33λ - 12}{2λ + 3}& \\frac{-7λ - 4}{2λ + 3}\\\\\n",
        "0 & 0 & \\frac{-3λ^3 + 14λ + 12}{2λ + 3} & \\frac{λ^2 + 12λ + 12}{2λ + 3} & \\frac{λ^2 + 5λ  + 4}{2λ + 3}\n",
        "\\end{pmatrix}→\\begin{pmatrix}\n",
        "1 & -λ & 3 & 2 & 1\\\\\n",
        "0 & 1 & \\frac{-λ-6}{2λ+3} & \\frac{-3}{2λ+3} & \\frac{-1}{2λ+3}\\\\\n",
        "0 & 0 & -3λ^2 - 32 - 12& -2λ^2 - 33λ - 12& -7λ - 4\\\\\n",
        "0 & 0 & -3λ^3 + 14λ + 12 & λ^2 + 12λ + 12 & λ^2 + 5λ  + 4\n",
        "\\end{pmatrix}→\\begin{pmatrix}\n",
        "1 & -λ & 3 & 2 & 1\\\\\n",
        "0 & 1 & \\frac{-λ-6}{2λ+3} & \\frac{-3}{2λ+3} & \\frac{-1}{2λ+3}\\\\\n",
        "0 & 0 & 1 & \\frac{-2λ^2 - 33λ - 12}{-3λ^2 - 32 - 12}& \\frac{-7λ - 4}{-3λ^2 - 32 - 12}\\\\\n",
        "0 & 0 & -3λ^3 + 14λ + 12 & λ^2 + 12λ + 12 & λ^2 + 5λ  + 4\n",
        "\\end{pmatrix}$$\n",
        "\n",
        "$$-3λ^2 - 32 - 12 \\neq 0$$\n",
        "\n",
        "\n",
        "$$→\\begin{pmatrix}\n",
        "1 & -λ & 3 & 2 & 1\\\\\n",
        "0 & 1 & \\frac{-λ-6}{2λ+3} & \\frac{-3}{2λ+3} & \\frac{-1}{2λ+3}\\\\\n",
        "0 & 0 & 1 & \\frac{-2λ^2 - 33λ - 12}{-3λ^2 - 32 - 12}& \\frac{-7λ - 4}{-3λ^2 - 32 - 12}\\\\\n",
        "0 & 0 & 0 & (λ^2 + 12λ + 12) - \\frac{(-2λ^2 - 33λ - 12)(-3λ^3 + 14λ + 12)}{-3λ^2 - 32 - 12} & (λ^2 + 5λ  + 4) - \\frac{(-7λ - 4)(-3λ^3 + 14λ + 12)}{-3λ^2 - 32 - 12}\n",
        "\\end{pmatrix}$$\n",
        "\n"
      ],
      "metadata": {
        "id": "8Y38mmpxWMbm"
      }
    },
    {
      "cell_type": "markdown",
      "source": [
        "Где-то здесь остановлюсь. Возможно я просто наделал кучу ошибок, а оно должно было где-то хорошо сократиться. Но вероятно я просто даже не близко пошёл к нужному решению.\n",
        "В теории, в этом решении надо искать корни и проверять для каждого λ."
      ],
      "metadata": {
        "id": "PNTQFqIU5iL8"
      }
    },
    {
      "cell_type": "markdown",
      "source": [
        "# 12\n",
        "Известно, что присоединенная к A матрица (то есть транспонированная матрица алгебраических дополнений) равна\n",
        "\n",
        "$$\\hat{A} = \\begin{pmatrix}\n",
        "1 & -2 & 1 \\\\\n",
        "3 & -4 & 3 \\\\\n",
        "-9 & 10 & -7\n",
        "\\end{pmatrix}$$\n",
        "\n",
        "Чему может равняться матрица A? (указание: присоединенная матрица имеет отношение к явной формуле для обратной матрицы — подумайте, как ее можно применить здесь)"
      ],
      "metadata": {
        "id": "cBcs2L2u5woW"
      }
    },
    {
      "cell_type": "markdown",
      "source": [
        "**Не решил. Подогнал под требуемый результат.**"
      ],
      "metadata": {
        "id": "AA9MdtLweeBy"
      }
    },
    {
      "cell_type": "markdown",
      "source": [
        "$$A^{-1} = \\frac{\\hat{A}}{|A|}$$\n",
        "$$I= \\frac{A\\hat{A}}{|A|}$$\n",
        "$$|A|I= A\\hat{A}$$\n",
        "$$A = |A|\\hat{A}^{-1}$$\n",
        "\n",
        "Видимо предполагаем, что $|A| \\neq 0$"
      ],
      "metadata": {
        "id": "W-2LVzXnDaKa"
      }
    },
    {
      "cell_type": "markdown",
      "source": [
        "$$\\hat{A}^{-1} = \\begin{pmatrix}\n",
        "\\left.\\begin{matrix}\n",
        "1 & -2 & 1  \\\\\n",
        "3 & -4 & 3 \\\\\n",
        "-9 & 10 & -7\n",
        "\\end{matrix}\\right|\n",
        "\\begin{matrix}\n",
        "1 & 0 & 0\\\\\n",
        "0 & 1 & 0\\\\\n",
        "0 & 0 & 1\n",
        "\\end{matrix}\n",
        "\\end{pmatrix}=\n",
        "\\begin{pmatrix}\n",
        "\\left.\\begin{matrix}\n",
        "1 & -2 & 1  \\\\\n",
        "0 & 2 & 0 \\\\\n",
        "0 & -8 & 2\n",
        "\\end{matrix}\\right|\n",
        "\\begin{matrix}\n",
        "1 & 0 & 0\\\\\n",
        "-3 & 1 & 0\\\\\n",
        "9 & 0 & 1\n",
        "\\end{matrix}\n",
        "\\end{pmatrix}=\n",
        "\\begin{pmatrix}\n",
        "\\left.\\begin{matrix}\n",
        "1 & -2 & 1  \\\\\n",
        "0 & 1 & 0 \\\\\n",
        "0 & -8 & 2\n",
        "\\end{matrix}\\right|\n",
        "\\begin{matrix}\n",
        "1 & 0 & 0\\\\\n",
        "-1.5 & 0.5 & 0\\\\\n",
        "9 & 0 & 1\n",
        "\\end{matrix}\n",
        "\\end{pmatrix}=\n",
        "\\begin{pmatrix}\n",
        "\\left.\\begin{matrix}\n",
        "1 & -2 & 1  \\\\\n",
        "0 & 1 & 0 \\\\\n",
        "0 & 0 & 2\n",
        "\\end{matrix}\\right|\n",
        "\\begin{matrix}\n",
        "1 & 0 & 0\\\\\n",
        "-1.5 & 0.5 & 0\\\\\n",
        "-3 & 4 & 1\n",
        "\\end{matrix}\n",
        "\\end{pmatrix}=\n",
        "\\begin{pmatrix}\n",
        "\\left.\\begin{matrix}\n",
        "1 & -2 & 1  \\\\\n",
        "0 & 1 & 0 \\\\\n",
        "0 & 0 & 1\n",
        "\\end{matrix}\\right|\n",
        "\\begin{matrix}\n",
        "1 & 0 & 0\\\\\n",
        "-1.5 & 0.5 & 0\\\\\n",
        "-1.5 & 2 & 0.5\n",
        "\\end{matrix}\n",
        "\\end{pmatrix}=\n",
        "\\begin{pmatrix}\n",
        "\\left.\\begin{matrix}\n",
        "1 & -2 & 0  \\\\\n",
        "0 & 1 & 0 \\\\\n",
        "0 & 0 & 1\n",
        "\\end{matrix}\\right|\n",
        "\\begin{matrix}\n",
        "2.5 & -2 & -0.5\\\\\n",
        "-1.5 & 0.5 & 0\\\\\n",
        "-1.5 & 2 & 0.5\n",
        "\\end{matrix}\n",
        "\\end{pmatrix}=\n",
        "\\begin{pmatrix}\n",
        "\\left.\\begin{matrix}\n",
        "1 & 0 & 0  \\\\\n",
        "0 & 1 & 0 \\\\\n",
        "0 & 0 & 1\n",
        "\\end{matrix}\\right|\n",
        "\\begin{matrix}\n",
        "-0.5 & -1 & -0.5\\\\\n",
        "-1.5 & 0.5 & 0\\\\\n",
        "-1.5 & 2 & 0.5\n",
        "\\end{matrix}\n",
        "\\end{pmatrix} = \\begin{pmatrix}\n",
        "-0.5 & -1 & -0.5\\\\\n",
        "-1.5 & 0.5 & 0\\\\\n",
        "-1.5 & 2 & 0.5\n",
        "\\end{pmatrix}$$"
      ],
      "metadata": {
        "id": "TJv3oIqpiQJW"
      }
    },
    {
      "cell_type": "markdown",
      "source": [
        "Если честно, то тут я смухлевал. Не очень я понял как находить детерминант A. Но тут матрицу, которую нужно получить начинается с 1. А потому нам нужно умножить на 2. Т.е. определитель A должен быть равен 2. И мы знаем, что определитель присоединённой матрицы равен 4. Тогда мы получаем, что $|A| = \\sqrt{|\\hat{A}|}$"
      ],
      "metadata": {
        "id": "4O9HQh1pS4W6"
      }
    },
    {
      "cell_type": "markdown",
      "source": [
        "$$|\\hat{A}^{-1}| =\\begin{vmatrix}\n",
        "1 & -2 & 1\\\\\n",
        "3 & -4 & 3\\\\\n",
        "-9 & 10 & -7\n",
        "\\end{vmatrix} = 28 + 54 + 30 - 36 - 30 - 42 = 4$$\n",
        "\n",
        "$$|A| = 2$$"
      ],
      "metadata": {
        "id": "ymr2aHOAm082"
      }
    },
    {
      "cell_type": "markdown",
      "source": [
        "$$A = 2\\begin{pmatrix}\n",
        "-0.5 & -1 & -0.5\\\\\n",
        "-1.5 & 0.5 & 0\\\\\n",
        "-1.5 & 2 & 0.5\n",
        "\\end{pmatrix} = \\begin{pmatrix}\n",
        "-1 & -2 & -1\\\\\n",
        "-3 & 1 & 0\\\\\n",
        "-3 & 4 & 1\n",
        "\\end{pmatrix}$$"
      ],
      "metadata": {
        "id": "Z1NGGdrgrfNL"
      }
    },
    {
      "cell_type": "markdown",
      "source": [
        "Ничего более умного, чем взять определитель от обеих частей уравнения - не придумал. Можно так делать - не уверен.\n",
        "\n",
        "$$|A|I= A\\hat{A}$$\n",
        "\n",
        "$$det(|A|I)= det(A\\hat{A}) = det(A)det(\\hat{A})$$\n",
        "$$det(|A|I) = det(A)det(\\hat{A})$$\n",
        "Т.е. у нас число умножить на единичную матрицу 3 на 3.\n",
        "$$|A|^3det(I)= det(A)det(\\hat{A})$$\n",
        "$$\\frac{|A|^3}{|A|}= det(\\hat{A})$$\n",
        "$$|A|^2= det(\\hat{A})$$\n",
        "$$|A|^2= det(\\hat{A})$$\n",
        "$$|A|= \\sqrt{det(\\hat{A})}$$"
      ],
      "metadata": {
        "id": "5ZSwEFybY8qV"
      }
    },
    {
      "cell_type": "markdown",
      "source": [
        "Не знаю, я не придумал как по-другому получить корень из определителя. В чистом виде, подгонка."
      ],
      "metadata": {
        "id": "KZPFmw_beO_S"
      }
    }
  ]
}